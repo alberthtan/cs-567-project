{
 "cells": [
  {
   "cell_type": "code",
   "execution_count": 81,
   "id": "0a8c0751",
   "metadata": {},
   "outputs": [],
   "source": [
    "import pandas as pd \n",
    "import random\n",
    "from sklearn import model_selection, linear_model, preprocessing, ensemble, neural_network"
   ]
  },
  {
   "cell_type": "markdown",
   "id": "d633dd51",
   "metadata": {},
   "source": [
    "## Inital Dataset"
   ]
  },
  {
   "cell_type": "code",
   "execution_count": 9,
   "id": "4c4cc7a3",
   "metadata": {},
   "outputs": [
    {
     "name": "stderr",
     "output_type": "stream",
     "text": [
      "/var/folders/n4/mqnt6n7d4h50q8s_q29m39w80000gn/T/ipykernel_3324/2298426289.py:1: DtypeWarning: Columns (36) have mixed types. Specify dtype option on import or set low_memory=False.\n",
      "  old_df = pd.read_csv(\"tennis_data.csv\")\n"
     ]
    }
   ],
   "source": [
    "old_df = pd.read_csv(\"tennis_data.csv\")"
   ]
  },
  {
   "cell_type": "code",
   "execution_count": 10,
   "id": "7fd27848",
   "metadata": {},
   "outputs": [
    {
     "data": {
      "text/html": [
       "<div>\n",
       "<style scoped>\n",
       "    .dataframe tbody tr th:only-of-type {\n",
       "        vertical-align: middle;\n",
       "    }\n",
       "\n",
       "    .dataframe tbody tr th {\n",
       "        vertical-align: top;\n",
       "    }\n",
       "\n",
       "    .dataframe thead th {\n",
       "        text-align: right;\n",
       "    }\n",
       "</style>\n",
       "<table border=\"1\" class=\"dataframe\">\n",
       "  <thead>\n",
       "    <tr style=\"text-align: right;\">\n",
       "      <th></th>\n",
       "      <th>ATP</th>\n",
       "      <th>Location</th>\n",
       "      <th>Tournament</th>\n",
       "      <th>Date</th>\n",
       "      <th>Series</th>\n",
       "      <th>Court</th>\n",
       "      <th>Surface</th>\n",
       "      <th>Round</th>\n",
       "      <th>Best of</th>\n",
       "      <th>Winner</th>\n",
       "      <th>...</th>\n",
       "      <th>pl1_flag</th>\n",
       "      <th>pl1_year_pro</th>\n",
       "      <th>pl1_weight</th>\n",
       "      <th>pl1_height</th>\n",
       "      <th>pl1_hand</th>\n",
       "      <th>pl2_flag</th>\n",
       "      <th>pl2_year_pro</th>\n",
       "      <th>pl2_weight</th>\n",
       "      <th>pl2_height</th>\n",
       "      <th>pl2_hand</th>\n",
       "    </tr>\n",
       "  </thead>\n",
       "  <tbody>\n",
       "    <tr>\n",
       "      <th>0</th>\n",
       "      <td>1</td>\n",
       "      <td>Adelaide</td>\n",
       "      <td>Adelaide International 1</td>\n",
       "      <td>2022-01-03</td>\n",
       "      <td>ATP250</td>\n",
       "      <td>Outdoor</td>\n",
       "      <td>Hard</td>\n",
       "      <td>1st Round</td>\n",
       "      <td>3</td>\n",
       "      <td>Kwon S.W.</td>\n",
       "      <td>...</td>\n",
       "      <td>KOR</td>\n",
       "      <td>2015.0</td>\n",
       "      <td>72.0</td>\n",
       "      <td>180.0</td>\n",
       "      <td>Right-Handed</td>\n",
       "      <td>JPN</td>\n",
       "      <td>2014.0</td>\n",
       "      <td>64.0</td>\n",
       "      <td>170.0</td>\n",
       "      <td>Left-Handed</td>\n",
       "    </tr>\n",
       "    <tr>\n",
       "      <th>1</th>\n",
       "      <td>1</td>\n",
       "      <td>Adelaide</td>\n",
       "      <td>Adelaide International 1</td>\n",
       "      <td>2022-01-03</td>\n",
       "      <td>ATP250</td>\n",
       "      <td>Outdoor</td>\n",
       "      <td>Hard</td>\n",
       "      <td>1st Round</td>\n",
       "      <td>3</td>\n",
       "      <td>Monteiro T.</td>\n",
       "      <td>...</td>\n",
       "      <td>BRA</td>\n",
       "      <td>2011.0</td>\n",
       "      <td>78.0</td>\n",
       "      <td>183.0</td>\n",
       "      <td>Left-Handed</td>\n",
       "      <td>GER</td>\n",
       "      <td>2014.0</td>\n",
       "      <td>80.0</td>\n",
       "      <td>188.0</td>\n",
       "      <td>Right-Handed</td>\n",
       "    </tr>\n",
       "    <tr>\n",
       "      <th>2</th>\n",
       "      <td>1</td>\n",
       "      <td>Adelaide</td>\n",
       "      <td>Adelaide International 1</td>\n",
       "      <td>2022-01-03</td>\n",
       "      <td>ATP250</td>\n",
       "      <td>Outdoor</td>\n",
       "      <td>Hard</td>\n",
       "      <td>1st Round</td>\n",
       "      <td>3</td>\n",
       "      <td>Djere L.</td>\n",
       "      <td>...</td>\n",
       "      <td>SRB</td>\n",
       "      <td>2013.0</td>\n",
       "      <td>80.0</td>\n",
       "      <td>185.0</td>\n",
       "      <td>Right-Handed</td>\n",
       "      <td>ESP</td>\n",
       "      <td>2011.0</td>\n",
       "      <td>76.0</td>\n",
       "      <td>180.0</td>\n",
       "      <td>Right-Handed</td>\n",
       "    </tr>\n",
       "    <tr>\n",
       "      <th>3</th>\n",
       "      <td>1</td>\n",
       "      <td>Adelaide</td>\n",
       "      <td>Adelaide International 1</td>\n",
       "      <td>2022-01-03</td>\n",
       "      <td>ATP250</td>\n",
       "      <td>Outdoor</td>\n",
       "      <td>Hard</td>\n",
       "      <td>1st Round</td>\n",
       "      <td>3</td>\n",
       "      <td>Johnson S.</td>\n",
       "      <td>...</td>\n",
       "      <td>USA</td>\n",
       "      <td>2012.0</td>\n",
       "      <td>86.0</td>\n",
       "      <td>188.0</td>\n",
       "      <td>Right-Handed</td>\n",
       "      <td>AUS</td>\n",
       "      <td>2018.0</td>\n",
       "      <td>85.0</td>\n",
       "      <td>188.0</td>\n",
       "      <td>Right-Handed</td>\n",
       "    </tr>\n",
       "    <tr>\n",
       "      <th>4</th>\n",
       "      <td>1</td>\n",
       "      <td>Adelaide</td>\n",
       "      <td>Adelaide International 1</td>\n",
       "      <td>2022-01-04</td>\n",
       "      <td>ATP250</td>\n",
       "      <td>Outdoor</td>\n",
       "      <td>Hard</td>\n",
       "      <td>1st Round</td>\n",
       "      <td>3</td>\n",
       "      <td>Moutet C.</td>\n",
       "      <td>...</td>\n",
       "      <td>FRA</td>\n",
       "      <td>2016.0</td>\n",
       "      <td>71.0</td>\n",
       "      <td>175.0</td>\n",
       "      <td>Left-Handed</td>\n",
       "      <td>DEN</td>\n",
       "      <td>2020.0</td>\n",
       "      <td>77.0</td>\n",
       "      <td>188.0</td>\n",
       "      <td>Right-Handed</td>\n",
       "    </tr>\n",
       "  </tbody>\n",
       "</table>\n",
       "<p>5 rows × 54 columns</p>\n",
       "</div>"
      ],
      "text/plain": [
       "   ATP  Location                Tournament        Date  Series    Court  \\\n",
       "0    1  Adelaide  Adelaide International 1  2022-01-03  ATP250  Outdoor   \n",
       "1    1  Adelaide  Adelaide International 1  2022-01-03  ATP250  Outdoor   \n",
       "2    1  Adelaide  Adelaide International 1  2022-01-03  ATP250  Outdoor   \n",
       "3    1  Adelaide  Adelaide International 1  2022-01-03  ATP250  Outdoor   \n",
       "4    1  Adelaide  Adelaide International 1  2022-01-04  ATP250  Outdoor   \n",
       "\n",
       "  Surface      Round  Best of       Winner  ... pl1_flag  pl1_year_pro  \\\n",
       "0    Hard  1st Round        3    Kwon S.W.  ...      KOR        2015.0   \n",
       "1    Hard  1st Round        3  Monteiro T.  ...      BRA        2011.0   \n",
       "2    Hard  1st Round        3     Djere L.  ...      SRB        2013.0   \n",
       "3    Hard  1st Round        3   Johnson S.  ...      USA        2012.0   \n",
       "4    Hard  1st Round        3    Moutet C.  ...      FRA        2016.0   \n",
       "\n",
       "   pl1_weight  pl1_height      pl1_hand  pl2_flag  pl2_year_pro  pl2_weight  \\\n",
       "0        72.0       180.0  Right-Handed       JPN        2014.0        64.0   \n",
       "1        78.0       183.0   Left-Handed       GER        2014.0        80.0   \n",
       "2        80.0       185.0  Right-Handed       ESP        2011.0        76.0   \n",
       "3        86.0       188.0  Right-Handed       AUS        2018.0        85.0   \n",
       "4        71.0       175.0   Left-Handed       DEN        2020.0        77.0   \n",
       "\n",
       "   pl2_height      pl2_hand  \n",
       "0       170.0   Left-Handed  \n",
       "1       188.0  Right-Handed  \n",
       "2       180.0  Right-Handed  \n",
       "3       188.0  Right-Handed  \n",
       "4       188.0  Right-Handed  \n",
       "\n",
       "[5 rows x 54 columns]"
      ]
     },
     "execution_count": 10,
     "metadata": {},
     "output_type": "execute_result"
    }
   ],
   "source": [
    "old_df.head()"
   ]
  },
  {
   "cell_type": "code",
   "execution_count": 11,
   "id": "b192326f",
   "metadata": {},
   "outputs": [
    {
     "data": {
      "text/plain": [
       "Index(['ATP', 'Location', 'Tournament', 'Date', 'Series', 'Court', 'Surface',\n",
       "       'Round', 'Best of', 'Winner', 'Loser', 'WRank', 'LRank', 'WPts', 'LPts',\n",
       "       'W1', 'L1', 'W2', 'L2', 'W3', 'L3', 'W4', 'L4', 'W5', 'L5', 'Wsets',\n",
       "       'Lsets', 'Comment', 'B365W', 'B365L', 'PSW', 'PSL', 'MaxW', 'MaxL',\n",
       "       'AvgW', 'AvgL', 'EXW', 'EXL', 'LBW', 'LBL', 'SJW', 'SJL', 'UBW', 'UBL',\n",
       "       'pl1_flag', 'pl1_year_pro', 'pl1_weight', 'pl1_height', 'pl1_hand',\n",
       "       'pl2_flag', 'pl2_year_pro', 'pl2_weight', 'pl2_height', 'pl2_hand'],\n",
       "      dtype='object')"
      ]
     },
     "execution_count": 11,
     "metadata": {},
     "output_type": "execute_result"
    }
   ],
   "source": [
    "old_df.columns"
   ]
  },
  {
   "cell_type": "markdown",
   "id": "b91ef1dc",
   "metadata": {},
   "source": [
    "## Make new DataFrame for model building"
   ]
  },
  {
   "cell_type": "code",
   "execution_count": 71,
   "id": "30d7d51e",
   "metadata": {},
   "outputs": [],
   "source": [
    "df = pd.DataFrame()\n",
    "random.seed(42)\n",
    "for index, row in old_df.iterrows():\n",
    "    coin = random.random() < 0.5\n",
    "    new_row = {}\n",
    "    if coin:\n",
    "        new_row[\"P1\"] = row[\"Winner\"]\n",
    "        new_row[\"P2\"] = row[\"Loser\"]\n",
    "        new_row[\"P1Rank\"] = row[\"WRank\"]\n",
    "        new_row[\"P2Rank\"] = row[\"LRank\"]\n",
    "        new_row[\"P1Points\"] = row[\"WPts\"]\n",
    "        new_row[\"P2Points\"] = row[\"LPts\"]\n",
    "        new_row[\"B365P1\"] = row[\"B365W\"]\n",
    "        new_row[\"B365P2\"] = row[\"B365L\"]\n",
    "        new_row[\"PSP1\"] = row[\"PSW\"]\n",
    "        new_row[\"PSP2\"] = row[\"PSL\"]\n",
    "        new_row[\"MaxP1\"] = row[\"MaxW\"]\n",
    "        new_row[\"MaxP2\"] = row[\"MaxL\"]\n",
    "        new_row[\"AvgP1\"] = row[\"AvgW\"]\n",
    "        new_row[\"AvgP2\"] = row[\"AvgL\"]\n",
    "        new_row[\"P1_year_pro\"] = row[\"pl1_year_pro\"]\n",
    "        new_row[\"P1_weight\"] = row[\"pl1_weight\"]\n",
    "        new_row[\"P1_height\"] = row[\"pl1_height\"]\n",
    "        new_row[\"P2_year_pro\"] = row[\"pl2_year_pro\"]\n",
    "        new_row[\"P2_weight\"] = row[\"pl2_weight\"]\n",
    "        new_row[\"P2_height\"] = row[\"pl2_height\"]\n",
    "        new_row[\"Winner\"] = 1\n",
    "    else:\n",
    "        new_row[\"P2\"] = row[\"Winner\"]\n",
    "        new_row[\"P1\"] = row[\"Loser\"]\n",
    "        new_row[\"P2Rank\"] = row[\"WRank\"]\n",
    "        new_row[\"P1Rank\"] = row[\"LRank\"]\n",
    "        new_row[\"P2Points\"] = row[\"WPts\"]\n",
    "        new_row[\"P1Points\"] = row[\"LPts\"]\n",
    "        new_row[\"B365P2\"] = row[\"B365W\"]\n",
    "        new_row[\"B365P1\"] = row[\"B365L\"]\n",
    "        new_row[\"PSP2\"] = row[\"PSW\"]\n",
    "        new_row[\"PSP1\"] = row[\"PSL\"]\n",
    "        new_row[\"MaxP2\"] = row[\"MaxW\"]\n",
    "        new_row[\"MaxP1\"] = row[\"MaxL\"]\n",
    "        new_row[\"AvgP2\"] = row[\"AvgW\"]\n",
    "        new_row[\"AvgP1\"] = row[\"AvgL\"]\n",
    "        new_row[\"P2_year_pro\"] = row[\"pl1_year_pro\"]\n",
    "        new_row[\"P2_weight\"] = row[\"pl1_weight\"]\n",
    "        new_row[\"P2_height\"] = row[\"pl1_height\"]\n",
    "        new_row[\"P1_year_pro\"] = row[\"pl2_year_pro\"]\n",
    "        new_row[\"P1_weight\"] = row[\"pl2_weight\"]\n",
    "        new_row[\"P1_height\"] = row[\"pl2_height\"]\n",
    "        new_row[\"Winner\"] = 0\n",
    "    new_df = pd.DataFrame([new_row])\n",
    "    df = pd.concat([df, new_df], axis=0, ignore_index=True)"
   ]
  },
  {
   "cell_type": "code",
   "execution_count": 72,
   "id": "0b4a292e",
   "metadata": {},
   "outputs": [
    {
     "data": {
      "text/html": [
       "<div>\n",
       "<style scoped>\n",
       "    .dataframe tbody tr th:only-of-type {\n",
       "        vertical-align: middle;\n",
       "    }\n",
       "\n",
       "    .dataframe tbody tr th {\n",
       "        vertical-align: top;\n",
       "    }\n",
       "\n",
       "    .dataframe thead th {\n",
       "        text-align: right;\n",
       "    }\n",
       "</style>\n",
       "<table border=\"1\" class=\"dataframe\">\n",
       "  <thead>\n",
       "    <tr style=\"text-align: right;\">\n",
       "      <th></th>\n",
       "      <th>P2</th>\n",
       "      <th>P1</th>\n",
       "      <th>P2Rank</th>\n",
       "      <th>P1Rank</th>\n",
       "      <th>P2Points</th>\n",
       "      <th>P1Points</th>\n",
       "      <th>B365P2</th>\n",
       "      <th>B365P1</th>\n",
       "      <th>PSP2</th>\n",
       "      <th>PSP1</th>\n",
       "      <th>...</th>\n",
       "      <th>MaxP1</th>\n",
       "      <th>AvgP2</th>\n",
       "      <th>AvgP1</th>\n",
       "      <th>P2_year_pro</th>\n",
       "      <th>P2_weight</th>\n",
       "      <th>P2_height</th>\n",
       "      <th>P1_year_pro</th>\n",
       "      <th>P1_weight</th>\n",
       "      <th>P1_height</th>\n",
       "      <th>Winner</th>\n",
       "    </tr>\n",
       "  </thead>\n",
       "  <tbody>\n",
       "    <tr>\n",
       "      <th>0</th>\n",
       "      <td>Kwon S.W.</td>\n",
       "      <td>Nishioka Y.</td>\n",
       "      <td>53.0</td>\n",
       "      <td>81.0</td>\n",
       "      <td>1115.0</td>\n",
       "      <td>823.0</td>\n",
       "      <td>1.61</td>\n",
       "      <td>2.30</td>\n",
       "      <td>1.70</td>\n",
       "      <td>2.26</td>\n",
       "      <td>...</td>\n",
       "      <td>2.50</td>\n",
       "      <td>1.64</td>\n",
       "      <td>2.22</td>\n",
       "      <td>2015.0</td>\n",
       "      <td>72.0</td>\n",
       "      <td>180.0</td>\n",
       "      <td>2014.0</td>\n",
       "      <td>64.0</td>\n",
       "      <td>170.0</td>\n",
       "      <td>0</td>\n",
       "    </tr>\n",
       "    <tr>\n",
       "      <th>1</th>\n",
       "      <td>Altmaier D.</td>\n",
       "      <td>Monteiro T.</td>\n",
       "      <td>84.0</td>\n",
       "      <td>89.0</td>\n",
       "      <td>813.0</td>\n",
       "      <td>805.0</td>\n",
       "      <td>1.61</td>\n",
       "      <td>2.30</td>\n",
       "      <td>1.60</td>\n",
       "      <td>2.49</td>\n",
       "      <td>...</td>\n",
       "      <td>2.60</td>\n",
       "      <td>1.57</td>\n",
       "      <td>2.38</td>\n",
       "      <td>2014.0</td>\n",
       "      <td>80.0</td>\n",
       "      <td>188.0</td>\n",
       "      <td>2011.0</td>\n",
       "      <td>78.0</td>\n",
       "      <td>183.0</td>\n",
       "      <td>1</td>\n",
       "    </tr>\n",
       "    <tr>\n",
       "      <th>2</th>\n",
       "      <td>Carballes Baena R.</td>\n",
       "      <td>Djere L.</td>\n",
       "      <td>79.0</td>\n",
       "      <td>52.0</td>\n",
       "      <td>837.0</td>\n",
       "      <td>1131.0</td>\n",
       "      <td>2.20</td>\n",
       "      <td>1.66</td>\n",
       "      <td>2.10</td>\n",
       "      <td>1.81</td>\n",
       "      <td>...</td>\n",
       "      <td>1.83</td>\n",
       "      <td>2.12</td>\n",
       "      <td>1.70</td>\n",
       "      <td>2011.0</td>\n",
       "      <td>76.0</td>\n",
       "      <td>180.0</td>\n",
       "      <td>2013.0</td>\n",
       "      <td>80.0</td>\n",
       "      <td>185.0</td>\n",
       "      <td>1</td>\n",
       "    </tr>\n",
       "    <tr>\n",
       "      <th>3</th>\n",
       "      <td>Vukic A.</td>\n",
       "      <td>Johnson S.</td>\n",
       "      <td>156.0</td>\n",
       "      <td>85.0</td>\n",
       "      <td>440.0</td>\n",
       "      <td>812.0</td>\n",
       "      <td>1.80</td>\n",
       "      <td>2.00</td>\n",
       "      <td>1.74</td>\n",
       "      <td>2.21</td>\n",
       "      <td>...</td>\n",
       "      <td>2.30</td>\n",
       "      <td>1.72</td>\n",
       "      <td>2.10</td>\n",
       "      <td>2018.0</td>\n",
       "      <td>85.0</td>\n",
       "      <td>188.0</td>\n",
       "      <td>2012.0</td>\n",
       "      <td>86.0</td>\n",
       "      <td>188.0</td>\n",
       "      <td>1</td>\n",
       "    </tr>\n",
       "    <tr>\n",
       "      <th>4</th>\n",
       "      <td>Moutet C.</td>\n",
       "      <td>Rune H.</td>\n",
       "      <td>92.0</td>\n",
       "      <td>103.0</td>\n",
       "      <td>797.0</td>\n",
       "      <td>740.0</td>\n",
       "      <td>2.75</td>\n",
       "      <td>1.44</td>\n",
       "      <td>2.66</td>\n",
       "      <td>1.53</td>\n",
       "      <td>...</td>\n",
       "      <td>1.54</td>\n",
       "      <td>2.64</td>\n",
       "      <td>1.47</td>\n",
       "      <td>2016.0</td>\n",
       "      <td>71.0</td>\n",
       "      <td>175.0</td>\n",
       "      <td>2020.0</td>\n",
       "      <td>77.0</td>\n",
       "      <td>188.0</td>\n",
       "      <td>0</td>\n",
       "    </tr>\n",
       "  </tbody>\n",
       "</table>\n",
       "<p>5 rows × 21 columns</p>\n",
       "</div>"
      ],
      "text/plain": [
       "                   P2           P1  P2Rank  P1Rank  P2Points  P1Points  \\\n",
       "0           Kwon S.W.  Nishioka Y.    53.0    81.0    1115.0     823.0   \n",
       "1         Altmaier D.  Monteiro T.    84.0    89.0     813.0     805.0   \n",
       "2  Carballes Baena R.     Djere L.    79.0    52.0     837.0    1131.0   \n",
       "3            Vukic A.   Johnson S.   156.0    85.0     440.0     812.0   \n",
       "4           Moutet C.      Rune H.    92.0   103.0     797.0     740.0   \n",
       "\n",
       "   B365P2  B365P1  PSP2  PSP1  ...  MaxP1  AvgP2  AvgP1  P2_year_pro  \\\n",
       "0    1.61    2.30  1.70  2.26  ...   2.50   1.64   2.22       2015.0   \n",
       "1    1.61    2.30  1.60  2.49  ...   2.60   1.57   2.38       2014.0   \n",
       "2    2.20    1.66  2.10  1.81  ...   1.83   2.12   1.70       2011.0   \n",
       "3    1.80    2.00  1.74  2.21  ...   2.30   1.72   2.10       2018.0   \n",
       "4    2.75    1.44  2.66  1.53  ...   1.54   2.64   1.47       2016.0   \n",
       "\n",
       "   P2_weight  P2_height  P1_year_pro  P1_weight  P1_height  Winner  \n",
       "0       72.0      180.0       2014.0       64.0      170.0       0  \n",
       "1       80.0      188.0       2011.0       78.0      183.0       1  \n",
       "2       76.0      180.0       2013.0       80.0      185.0       1  \n",
       "3       85.0      188.0       2012.0       86.0      188.0       1  \n",
       "4       71.0      175.0       2020.0       77.0      188.0       0  \n",
       "\n",
       "[5 rows x 21 columns]"
      ]
     },
     "execution_count": 72,
     "metadata": {},
     "output_type": "execute_result"
    }
   ],
   "source": [
    "df.head()"
   ]
  },
  {
   "cell_type": "code",
   "execution_count": 57,
   "id": "2e368c97",
   "metadata": {},
   "outputs": [],
   "source": [
    "# Seperate train and test\n",
    "df = df.dropna()\n",
    "train_df, test_df = model_selection.train_test_split(df, shuffle=False, test_size = 0.3)"
   ]
  },
  {
   "cell_type": "markdown",
   "id": "322c2dbd",
   "metadata": {},
   "source": [
    "## See how accurate betting odds are"
   ]
  },
  {
   "cell_type": "code",
   "execution_count": 58,
   "id": "57c690a9",
   "metadata": {},
   "outputs": [
    {
     "data": {
      "text/plain": [
       "0.7050664832645576"
      ]
     },
     "execution_count": 58,
     "metadata": {},
     "output_type": "execute_result"
    }
   ],
   "source": [
    "# See how accurate average betting is \n",
    "test_df[\"betting_winner\"] = (test_df[\"AvgP1\"] < test_df[\"AvgP2\"]).astype(int)\n",
    "(test_df[\"betting_winner\"] == test_df[\"Winner\"]).sum() / len(test_df)"
   ]
  },
  {
   "cell_type": "code",
   "execution_count": 59,
   "id": "4b512ea4",
   "metadata": {},
   "outputs": [
    {
     "data": {
      "text/plain": [
       "0.7056396148555708"
      ]
     },
     "execution_count": 59,
     "metadata": {},
     "output_type": "execute_result"
    }
   ],
   "source": [
    "# See how accurate bet365 is \n",
    "test_df[\"365_winner\"] = (test_df[\"B365P1\"] < test_df[\"B365P2\"]).astype(int)\n",
    "(test_df[\"365_winner\"] == test_df[\"Winner\"]).sum() / len(test_df)"
   ]
  },
  {
   "cell_type": "code",
   "execution_count": 60,
   "id": "9cf5db06",
   "metadata": {
    "scrolled": true
   },
   "outputs": [
    {
     "data": {
      "text/plain": [
       "0.7064419990829894"
      ]
     },
     "execution_count": 60,
     "metadata": {},
     "output_type": "execute_result"
    }
   ],
   "source": [
    "# See how accurate PS is \n",
    "test_df[\"PS_winner\"] = (test_df[\"PSP1\"] < test_df[\"PSP2\"]).astype(int)\n",
    "(test_df[\"PS_winner\"] == test_df[\"Winner\"]).sum() / len(test_df)"
   ]
  },
  {
   "cell_type": "markdown",
   "id": "d51d9167",
   "metadata": {},
   "source": [
    "## Generate models without betting info"
   ]
  },
  {
   "cell_type": "markdown",
   "id": "d76b105e",
   "metadata": {},
   "source": [
    "### Logistic Regression"
   ]
  },
  {
   "cell_type": "code",
   "execution_count": 66,
   "id": "88e5b189",
   "metadata": {},
   "outputs": [
    {
     "name": "stdout",
     "output_type": "stream",
     "text": [
      "P1Rank -0.2002295690078941\n",
      "P2Rank 0.2133013720733925\n",
      "P1Points 0.6044404796980177\n",
      "P2Points -0.6264353402383538\n",
      "P1_year_pro 0.06523466124806948\n",
      "P1_weight 0.045218920708019805\n",
      "P1_height 0.01184020591793077\n",
      "P2_year_pro -0.06301818687824709\n",
      "P2_weight -0.051936808176832674\n",
      "P2_height 0.004897089883749083\n"
     ]
    }
   ],
   "source": [
    "## Models without betting info \n",
    "X_col = [\"P1Rank\", \"P2Rank\", \"P1Points\", \"P2Points\", \"P1_year_pro\", \"P1_weight\", \"P1_height\", \"P2_year_pro\", \"P2_weight\", \"P2_height\"]\n",
    "\n",
    "scaler = preprocessing.StandardScaler()\n",
    "scaler.fit(train_df[X_col])\n",
    "X = scaler.transform(train_df[X_col])\n",
    "# Logistic Regression\n",
    "logreg = linear_model.LogisticRegression()\n",
    "logreg.fit(X, train_df[\"Winner\"])\n",
    "for i, col in enumerate(X_col):\n",
    "    print(col, logreg.coef_[0][i])"
   ]
  },
  {
   "cell_type": "code",
   "execution_count": 70,
   "id": "5c04ae46",
   "metadata": {},
   "outputs": [
    {
     "name": "stdout",
     "output_type": "stream",
     "text": [
      "Train accuracy: 0.6485557083906465\n",
      "Test accuracy: 0.6592159559834938\n"
     ]
    }
   ],
   "source": [
    "print(\"Train accuracy:\", (logreg.predict(X) == train_df[\"Winner\"]).sum() / len(train_df))\n",
    "test_X = scaler.transform(test_df[X_col])\n",
    "print(\"Test accuracy:\", (logreg.predict(test_X) == test_df[\"Winner\"]).sum() / len(test_df))"
   ]
  },
  {
   "cell_type": "markdown",
   "id": "b2f4ba7b",
   "metadata": {},
   "source": [
    "### RandomForest"
   ]
  },
  {
   "cell_type": "code",
   "execution_count": 79,
   "id": "668ff02f",
   "metadata": {},
   "outputs": [
    {
     "name": "stdout",
     "output_type": "stream",
     "text": [
      "Train accuracy: 0.655924543132246\n",
      "Test accuracy: 0.6612792297111417\n"
     ]
    }
   ],
   "source": [
    "rf = ensemble.RandomForestClassifier(n_estimators = 60, max_depth = 5)\n",
    "rf.fit(train_df[X_col], train_df[\"Winner\"])\n",
    "print(\"Train accuracy:\", (rf.predict(train_df[X_col]) == train_df[\"Winner\"]).sum() / len(train_df))\n",
    "print(\"Test accuracy:\", (rf.predict(test_df[X_col]) == test_df[\"Winner\"]).sum() / len(test_df))"
   ]
  },
  {
   "cell_type": "markdown",
   "id": "46da30c6",
   "metadata": {},
   "source": [
    "### Multilayer Perceptron"
   ]
  },
  {
   "cell_type": "code",
   "execution_count": 88,
   "id": "e651fae5",
   "metadata": {},
   "outputs": [
    {
     "name": "stdout",
     "output_type": "stream",
     "text": [
      "Train accuracy: 0.6433975240715268\n",
      "Test accuracy: 0.6609353507565336\n"
     ]
    }
   ],
   "source": [
    "MLP = neural_network.MLPClassifier(hidden_layer_sizes = (16, 8), alpha = 3e-4, learning_rate_init = 1e-2)\n",
    "MLP.fit(train_df[X_col], train_df[\"Winner\"])\n",
    "print(\"Train accuracy:\", (MLP.predict(train_df[X_col]) == train_df[\"Winner\"]).sum() / len(train_df))\n",
    "print(\"Test accuracy:\", (MLP.predict(test_df[X_col]) == test_df[\"Winner\"]).sum() / len(test_df))"
   ]
  },
  {
   "cell_type": "markdown",
   "id": "157a6251",
   "metadata": {},
   "source": [
    "## Models With Betting Info"
   ]
  },
  {
   "cell_type": "code",
   "execution_count": 89,
   "id": "28fc5a2a",
   "metadata": {},
   "outputs": [
    {
     "name": "stdout",
     "output_type": "stream",
     "text": [
      "P1Rank -0.007318436655687478\n",
      "P2Rank 0.009303806990428123\n",
      "P1Points -0.02170392161927184\n",
      "P2Points 0.017001953871918784\n",
      "P1_year_pro 0.05250023984948341\n",
      "P1_weight 0.00011456921651272872\n",
      "P1_height 0.0007440869382203435\n",
      "P2_year_pro -0.05352137550034583\n",
      "P2_weight 0.008112138137208366\n",
      "P2_height 0.0005406342025100989\n",
      "B365P1 -0.5490158882629705\n",
      "B365P2 -0.1896211883917745\n",
      "MaxP1 0.951367884966381\n",
      "MaxP2 0.04904053157889982\n",
      "AvgP1 -1.2250755055780937\n",
      "AvgP2 1.048276493927245\n"
     ]
    }
   ],
   "source": [
    "## Models without betting info \n",
    "X_col = [\"P1Rank\", \"P2Rank\", \"P1Points\", \"P2Points\", \"P1_year_pro\", \"P1_weight\", \"P1_height\", \"P2_year_pro\", \"P2_weight\", \"P2_height\", \"B365P1\", \"B365P2\", \"MaxP1\", \"MaxP2\", \"AvgP1\", \"AvgP2\"]\n",
    "\n",
    "scaler = preprocessing.StandardScaler()\n",
    "scaler.fit(train_df[X_col])\n",
    "X = scaler.transform(train_df[X_col])\n",
    "# Logistic Regression\n",
    "logreg = linear_model.LogisticRegression()\n",
    "logreg.fit(X, train_df[\"Winner\"])\n",
    "for i, col in enumerate(X_col):\n",
    "    print(col, logreg.coef_[0][i])"
   ]
  },
  {
   "cell_type": "code",
   "execution_count": 90,
   "id": "9f78e84a",
   "metadata": {},
   "outputs": [
    {
     "name": "stdout",
     "output_type": "stream",
     "text": [
      "Train accuracy: 0.687463155826292\n",
      "Test accuracy: 0.7034617148097203\n"
     ]
    }
   ],
   "source": [
    "print(\"Train accuracy:\", (logreg.predict(X) == train_df[\"Winner\"]).sum() / len(train_df))\n",
    "test_X = scaler.transform(test_df[X_col])\n",
    "print(\"Test accuracy:\", (logreg.predict(test_X) == test_df[\"Winner\"]).sum() / len(test_df))"
   ]
  },
  {
   "cell_type": "code",
   "execution_count": 91,
   "id": "4b973c49",
   "metadata": {},
   "outputs": [
    {
     "name": "stdout",
     "output_type": "stream",
     "text": [
      "Train accuracy: 0.6925230890155237\n",
      "Test accuracy: 0.7067858780375974\n"
     ]
    }
   ],
   "source": [
    "rf = ensemble.RandomForestClassifier(n_estimators = 60, max_depth = 5)\n",
    "rf.fit(train_df[X_col], train_df[\"Winner\"])\n",
    "print(\"Train accuracy:\", (rf.predict(train_df[X_col]) == train_df[\"Winner\"]).sum() / len(train_df))\n",
    "print(\"Test accuracy:\", (rf.predict(test_df[X_col]) == test_df[\"Winner\"]).sum() / len(test_df))"
   ]
  },
  {
   "cell_type": "code",
   "execution_count": 97,
   "id": "d9f1b4b7",
   "metadata": {},
   "outputs": [
    {
     "name": "stdout",
     "output_type": "stream",
     "text": [
      "Train accuracy: 0.6750835134604048\n",
      "Test accuracy: 0.6933745988078863\n"
     ]
    }
   ],
   "source": [
    "MLP = neural_network.MLPClassifier(hidden_layer_sizes = (24, 16), alpha = 5e-4, learning_rate_init = 7e-3)\n",
    "MLP.fit(train_df[X_col], train_df[\"Winner\"])\n",
    "print(\"Train accuracy:\", (MLP.predict(train_df[X_col]) == train_df[\"Winner\"]).sum() / len(train_df))\n",
    "print(\"Test accuracy:\", (MLP.predict(test_df[X_col]) == test_df[\"Winner\"]).sum() / len(test_df))"
   ]
  },
  {
   "cell_type": "code",
   "execution_count": null,
   "id": "89587218",
   "metadata": {},
   "outputs": [],
   "source": []
  }
 ],
 "metadata": {
  "kernelspec": {
   "display_name": "Python 3 (ipykernel)",
   "language": "python",
   "name": "python3"
  },
  "language_info": {
   "codemirror_mode": {
    "name": "ipython",
    "version": 3
   },
   "file_extension": ".py",
   "mimetype": "text/x-python",
   "name": "python",
   "nbconvert_exporter": "python",
   "pygments_lexer": "ipython3",
   "version": "3.9.13"
  }
 },
 "nbformat": 4,
 "nbformat_minor": 5
}
